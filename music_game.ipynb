{
  "nbformat": 4,
  "nbformat_minor": 0,
  "metadata": {
    "colab": {
      "provenance": [],
      "authorship_tag": "ABX9TyO6JfqyEa2mvQJcSih+enf+",
      "include_colab_link": true
    },
    "kernelspec": {
      "name": "python3",
      "display_name": "Python 3"
    },
    "language_info": {
      "name": "python"
    }
  },
  "cells": [
    {
      "cell_type": "markdown",
      "metadata": {
        "id": "view-in-github",
        "colab_type": "text"
      },
      "source": [
        "<a href=\"https://colab.research.google.com/github/tapiwamesa/Python/blob/main/music_game.ipynb\" target=\"_parent\"><img src=\"https://colab.research.google.com/assets/colab-badge.svg\" alt=\"Open In Colab\"/></a>"
      ]
    },
    {
      "cell_type": "code",
      "source": [
        "#importing the module that will help with randomization of the notes\n",
        "import random\n",
        "\n",
        "def music_game(): \n",
        "    \n",
        "    #Assigning a list of notes to the variable note_names\n",
        "    notes = ['A', 'A#', 'B', 'C', 'C#', 'D', 'D#', 'E', 'F', 'F#', 'G', 'G#']\n",
        "\n",
        "    #random.choice(note_names) will choose a random note from note_names list and assign it to note1 & note2\n",
        "    note1 = random.choice(notes)\n",
        "    note2 = random.choice(notes)\n",
        "    \n",
        "    #Whenever note1 is equal to note2, note2 will be randomized until its not equal to note2\n",
        "    while note1 == note2: \n",
        "        note2 = random.choice(notes)\n",
        "\n",
        "    #Using string formatting to print value of randomly selected note1 & note2\n",
        "    print('\\n')\n",
        "    print(f'What is the number of semitones between {note1} and {note2}?\\n')\n",
        " \n",
        "    #While loop ensures that the user inputs a valid interger othwerwise will not allow user to play the game until they put a number\n",
        "    while True:\n",
        "        try: \n",
        "            feedback = int(input('Enter your guess:\\n'))\n",
        "            break \n",
        "        except ValueError: \n",
        "            print('Enter a number.\\n')\n",
        "     \n",
        "    #The position of any note is the index of the note plus 1, eg note_names.index('A') is 0, but position is 1\n",
        "    answer = abs(notes.index(note1) - notes.index(note2)) - 1\n",
        "        \n",
        "    if feedback == answer: \n",
        "        print('\\nYour answer is correct.\\n')\n",
        "    else: \n",
        "        print('\\nYour guess is incorrect.\\n')\n",
        "        \n",
        "    while True: \n",
        "        play_again = input('Do you wish to play again: Yes/No.\\n')\n",
        "        if play_again.upper() == 'YES':\n",
        "            music_game()\n",
        "            break \n",
        "        \n",
        "        elif play_again.upper() == 'NO': \n",
        "            quit = input('\\nAre you sure you want to quit: Yes/No.\\n')\n",
        "            if quit.upper() == 'YES': \n",
        "                print(f'\\nThanks for playing, the correct answer is {answer}.\\n')\n",
        "                break\n",
        "            else:\n",
        "                quit.upper() == 'N'\n",
        "                music_game()\n",
        "                break \n",
        "        else: \n",
        "            print('Please enter Yes or No.\\n')\n",
        "        \n",
        "\n",
        "#Execute the function      \n",
        "music_game()   "
      ],
      "metadata": {
        "id": "koWyYhZQ9K2N"
      },
      "execution_count": null,
      "outputs": []
    },
    {
      "cell_type": "code",
      "source": [],
      "metadata": {
        "id": "Sr07DBJ_KBih"
      },
      "execution_count": null,
      "outputs": []
    }
  ]
}